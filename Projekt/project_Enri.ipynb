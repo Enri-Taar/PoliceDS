{
 "cells": [
  {
   "cell_type": "markdown",
   "metadata": {},
   "source": [
    "# Data\n",
    "### what was the age of the youngest person\n",
    "### what was the age of the oldest person\n",
    "### wether body camera usage had gone up\n",
    "### how many days had 0 unreported cases"
   ]
  },
  {
   "cell_type": "code",
   "execution_count": 1,
   "metadata": {},
   "outputs": [
    {
     "data": {
      "text/html": [
       "<div>\n",
       "<style scoped>\n",
       "    .dataframe tbody tr th:only-of-type {\n",
       "        vertical-align: middle;\n",
       "    }\n",
       "\n",
       "    .dataframe tbody tr th {\n",
       "        vertical-align: top;\n",
       "    }\n",
       "\n",
       "    .dataframe thead th {\n",
       "        text-align: right;\n",
       "    }\n",
       "</style>\n",
       "<table border=\"1\" class=\"dataframe\">\n",
       "  <thead>\n",
       "    <tr style=\"text-align: right;\">\n",
       "      <th></th>\n",
       "      <th>id</th>\n",
       "      <th>date</th>\n",
       "      <th>manner_of_death</th>\n",
       "      <th>armed</th>\n",
       "      <th>age</th>\n",
       "      <th>gender</th>\n",
       "      <th>race</th>\n",
       "      <th>city</th>\n",
       "      <th>state</th>\n",
       "      <th>signs_of_mental_illness</th>\n",
       "      <th>threat_level</th>\n",
       "      <th>flee</th>\n",
       "      <th>body_camera</th>\n",
       "      <th>arms_category</th>\n",
       "    </tr>\n",
       "  </thead>\n",
       "  <tbody>\n",
       "    <tr>\n",
       "      <th>0</th>\n",
       "      <td>3</td>\n",
       "      <td>2015-01-02</td>\n",
       "      <td>shot</td>\n",
       "      <td>gun</td>\n",
       "      <td>53.0</td>\n",
       "      <td>M</td>\n",
       "      <td>Asian</td>\n",
       "      <td>Shelton</td>\n",
       "      <td>WA</td>\n",
       "      <td>True</td>\n",
       "      <td>attack</td>\n",
       "      <td>Not fleeing</td>\n",
       "      <td>False</td>\n",
       "      <td>Guns</td>\n",
       "    </tr>\n",
       "    <tr>\n",
       "      <th>1</th>\n",
       "      <td>4</td>\n",
       "      <td>2015-01-02</td>\n",
       "      <td>shot</td>\n",
       "      <td>gun</td>\n",
       "      <td>47.0</td>\n",
       "      <td>M</td>\n",
       "      <td>White</td>\n",
       "      <td>Aloha</td>\n",
       "      <td>OR</td>\n",
       "      <td>False</td>\n",
       "      <td>attack</td>\n",
       "      <td>Not fleeing</td>\n",
       "      <td>False</td>\n",
       "      <td>Guns</td>\n",
       "    </tr>\n",
       "    <tr>\n",
       "      <th>2</th>\n",
       "      <td>5</td>\n",
       "      <td>2015-01-03</td>\n",
       "      <td>shot and Tasered</td>\n",
       "      <td>unarmed</td>\n",
       "      <td>23.0</td>\n",
       "      <td>M</td>\n",
       "      <td>Hispanic</td>\n",
       "      <td>Wichita</td>\n",
       "      <td>KS</td>\n",
       "      <td>False</td>\n",
       "      <td>other</td>\n",
       "      <td>Not fleeing</td>\n",
       "      <td>False</td>\n",
       "      <td>Unarmed</td>\n",
       "    </tr>\n",
       "    <tr>\n",
       "      <th>3</th>\n",
       "      <td>8</td>\n",
       "      <td>2015-01-04</td>\n",
       "      <td>shot</td>\n",
       "      <td>toy weapon</td>\n",
       "      <td>32.0</td>\n",
       "      <td>M</td>\n",
       "      <td>White</td>\n",
       "      <td>San Francisco</td>\n",
       "      <td>CA</td>\n",
       "      <td>True</td>\n",
       "      <td>attack</td>\n",
       "      <td>Not fleeing</td>\n",
       "      <td>False</td>\n",
       "      <td>Other unusual objects</td>\n",
       "    </tr>\n",
       "    <tr>\n",
       "      <th>4</th>\n",
       "      <td>9</td>\n",
       "      <td>2015-01-04</td>\n",
       "      <td>shot</td>\n",
       "      <td>nail gun</td>\n",
       "      <td>39.0</td>\n",
       "      <td>M</td>\n",
       "      <td>Hispanic</td>\n",
       "      <td>Evans</td>\n",
       "      <td>CO</td>\n",
       "      <td>False</td>\n",
       "      <td>attack</td>\n",
       "      <td>Not fleeing</td>\n",
       "      <td>False</td>\n",
       "      <td>Piercing objects</td>\n",
       "    </tr>\n",
       "    <tr>\n",
       "      <th>...</th>\n",
       "      <td>...</td>\n",
       "      <td>...</td>\n",
       "      <td>...</td>\n",
       "      <td>...</td>\n",
       "      <td>...</td>\n",
       "      <td>...</td>\n",
       "      <td>...</td>\n",
       "      <td>...</td>\n",
       "      <td>...</td>\n",
       "      <td>...</td>\n",
       "      <td>...</td>\n",
       "      <td>...</td>\n",
       "      <td>...</td>\n",
       "      <td>...</td>\n",
       "    </tr>\n",
       "    <tr>\n",
       "      <th>4890</th>\n",
       "      <td>5916</td>\n",
       "      <td>2020-06-12</td>\n",
       "      <td>shot</td>\n",
       "      <td>Taser</td>\n",
       "      <td>27.0</td>\n",
       "      <td>M</td>\n",
       "      <td>Black</td>\n",
       "      <td>Atlanta</td>\n",
       "      <td>GA</td>\n",
       "      <td>False</td>\n",
       "      <td>attack</td>\n",
       "      <td>Foot</td>\n",
       "      <td>True</td>\n",
       "      <td>Electrical devices</td>\n",
       "    </tr>\n",
       "    <tr>\n",
       "      <th>4891</th>\n",
       "      <td>5925</td>\n",
       "      <td>2020-06-12</td>\n",
       "      <td>shot</td>\n",
       "      <td>gun</td>\n",
       "      <td>23.0</td>\n",
       "      <td>M</td>\n",
       "      <td>Black</td>\n",
       "      <td>Crown Point</td>\n",
       "      <td>IN</td>\n",
       "      <td>False</td>\n",
       "      <td>attack</td>\n",
       "      <td>Car</td>\n",
       "      <td>False</td>\n",
       "      <td>Guns</td>\n",
       "    </tr>\n",
       "    <tr>\n",
       "      <th>4892</th>\n",
       "      <td>5918</td>\n",
       "      <td>2020-06-13</td>\n",
       "      <td>shot</td>\n",
       "      <td>unarmed</td>\n",
       "      <td>25.0</td>\n",
       "      <td>F</td>\n",
       "      <td>White</td>\n",
       "      <td>Sedalia</td>\n",
       "      <td>MO</td>\n",
       "      <td>False</td>\n",
       "      <td>other</td>\n",
       "      <td>Not fleeing</td>\n",
       "      <td>False</td>\n",
       "      <td>Unarmed</td>\n",
       "    </tr>\n",
       "    <tr>\n",
       "      <th>4893</th>\n",
       "      <td>5921</td>\n",
       "      <td>2020-06-13</td>\n",
       "      <td>shot</td>\n",
       "      <td>gun</td>\n",
       "      <td>22.0</td>\n",
       "      <td>M</td>\n",
       "      <td>White</td>\n",
       "      <td>Kansas City</td>\n",
       "      <td>MO</td>\n",
       "      <td>False</td>\n",
       "      <td>other</td>\n",
       "      <td>Other</td>\n",
       "      <td>False</td>\n",
       "      <td>Guns</td>\n",
       "    </tr>\n",
       "    <tr>\n",
       "      <th>4894</th>\n",
       "      <td>5924</td>\n",
       "      <td>2020-06-15</td>\n",
       "      <td>shot</td>\n",
       "      <td>gun</td>\n",
       "      <td>31.0</td>\n",
       "      <td>M</td>\n",
       "      <td>White</td>\n",
       "      <td>Lawrence</td>\n",
       "      <td>KS</td>\n",
       "      <td>False</td>\n",
       "      <td>attack</td>\n",
       "      <td>Car</td>\n",
       "      <td>False</td>\n",
       "      <td>Guns</td>\n",
       "    </tr>\n",
       "  </tbody>\n",
       "</table>\n",
       "<p>4895 rows × 14 columns</p>\n",
       "</div>"
      ],
      "text/plain": [
       "        id        date   manner_of_death       armed   age gender      race  \\\n",
       "0        3  2015-01-02              shot         gun  53.0      M     Asian   \n",
       "1        4  2015-01-02              shot         gun  47.0      M     White   \n",
       "2        5  2015-01-03  shot and Tasered     unarmed  23.0      M  Hispanic   \n",
       "3        8  2015-01-04              shot  toy weapon  32.0      M     White   \n",
       "4        9  2015-01-04              shot    nail gun  39.0      M  Hispanic   \n",
       "...    ...         ...               ...         ...   ...    ...       ...   \n",
       "4890  5916  2020-06-12              shot       Taser  27.0      M     Black   \n",
       "4891  5925  2020-06-12              shot         gun  23.0      M     Black   \n",
       "4892  5918  2020-06-13              shot     unarmed  25.0      F     White   \n",
       "4893  5921  2020-06-13              shot         gun  22.0      M     White   \n",
       "4894  5924  2020-06-15              shot         gun  31.0      M     White   \n",
       "\n",
       "               city state  signs_of_mental_illness threat_level         flee  \\\n",
       "0           Shelton    WA                     True       attack  Not fleeing   \n",
       "1             Aloha    OR                    False       attack  Not fleeing   \n",
       "2           Wichita    KS                    False        other  Not fleeing   \n",
       "3     San Francisco    CA                     True       attack  Not fleeing   \n",
       "4             Evans    CO                    False       attack  Not fleeing   \n",
       "...             ...   ...                      ...          ...          ...   \n",
       "4890        Atlanta    GA                    False       attack         Foot   \n",
       "4891    Crown Point    IN                    False       attack          Car   \n",
       "4892        Sedalia    MO                    False        other  Not fleeing   \n",
       "4893    Kansas City    MO                    False        other        Other   \n",
       "4894       Lawrence    KS                    False       attack          Car   \n",
       "\n",
       "      body_camera          arms_category  \n",
       "0           False                   Guns  \n",
       "1           False                   Guns  \n",
       "2           False                Unarmed  \n",
       "3           False  Other unusual objects  \n",
       "4           False       Piercing objects  \n",
       "...           ...                    ...  \n",
       "4890         True     Electrical devices  \n",
       "4891        False                   Guns  \n",
       "4892        False                Unarmed  \n",
       "4893        False                   Guns  \n",
       "4894        False                   Guns  \n",
       "\n",
       "[4895 rows x 14 columns]"
      ]
     },
     "execution_count": 1,
     "metadata": {},
     "output_type": "execute_result"
    }
   ],
   "source": [
    "#Importing modules and data\n",
    "\n",
    "import pandas as pd\n",
    "import numpy as np\n",
    "import matplotlib.pyplot as plt\n",
    "import seaborn as sns\n",
    "import plotly.express as px\n",
    "from sklearn.tree import DecisionTreeClassifier\n",
    "from sklearn import tree\n",
    "from sklearn.tree import plot_tree\n",
    "import graphviz\n",
    "from datetime import datetime\n",
    "\n",
    "df = pd.read_csv(\"shootings.csv\")\n",
    "#dropping the name column\n",
    "df = df.drop('name', 1)\n",
    "df"
   ]
  },
  {
   "cell_type": "markdown",
   "metadata": {},
   "source": [
    "### Oldest person shot"
   ]
  },
  {
   "cell_type": "code",
   "execution_count": 2,
   "metadata": {},
   "outputs": [
    {
     "data": {
      "text/plain": [
       "id                                   2407\n",
       "date                           2017-03-08\n",
       "manner_of_death                      shot\n",
       "armed                                 gun\n",
       "age                                    91\n",
       "gender                                  M\n",
       "race                                White\n",
       "city                       Union Township\n",
       "state                                  PA\n",
       "signs_of_mental_illness             False\n",
       "threat_level                       attack\n",
       "flee                          Not fleeing\n",
       "body_camera                         False\n",
       "arms_category                        Guns\n",
       "Name: 2071, dtype: object"
      ]
     },
     "execution_count": 2,
     "metadata": {},
     "output_type": "execute_result"
    }
   ],
   "source": [
    "\n",
    "df.loc[df['age'].idxmax()]"
   ]
  },
  {
   "cell_type": "code",
   "execution_count": 3,
   "metadata": {},
   "outputs": [
    {
     "data": {
      "text/plain": [
       "id                                980\n",
       "date                       2015-11-03\n",
       "manner_of_death                  shot\n",
       "armed                         unarmed\n",
       "age                                 6\n",
       "gender                              M\n",
       "race                            White\n",
       "city                       Marksville\n",
       "state                              LA\n",
       "signs_of_mental_illness         False\n",
       "threat_level                    other\n",
       "flee                              Car\n",
       "body_camera                      True\n",
       "arms_category                 Unarmed\n",
       "Name: 811, dtype: object"
      ]
     },
     "execution_count": 3,
     "metadata": {},
     "output_type": "execute_result"
    }
   ],
   "source": [
    "#youngest person shot\n",
    "df.loc[df['age'].idxmin()]\n"
   ]
  },
  {
   "cell_type": "markdown",
   "metadata": {},
   "source": [
    "### Comparing body camera usage over the years"
   ]
  },
  {
   "cell_type": "code",
   "execution_count": 4,
   "metadata": {},
   "outputs": [
    {
     "data": {
      "image/png": "[encoded data removed]",
      "text/plain": [
       "<Figure size 432x288 with 1 Axes>"
      ]
     },
     "metadata": {
      "needs_background": "light"
     },
     "output_type": "display_data"
    }
   ],
   "source": [
    "\n",
    "df['date'] = pd.to_datetime(df['date'])\n",
    "df['year'] = df['date'].dt.year\n",
    "df['month'] = df['date'].dt.month\n",
    "df['day'] = df['date'].dt.day\n",
    "\n",
    "years = [2015, 2016, 2017, 2018, 2019, 2020]\n",
    "\n",
    "cams_year = [0, 0, 0, 0, 0, 0]\n",
    "cases_year = [0, 0, 0, 0, 0, 0]\n",
    "ix = 0\n",
    "for year in years:\n",
    "    cams = 0\n",
    "    cases = 0\n",
    "    for ind in df.index:\n",
    "        if ((df.year[ind] == year)):\n",
    "            cases += 1\n",
    "        if ((df.year[ind] == year) & (df.body_camera[ind] == True)):\n",
    "            cams += 1\n",
    "    cams_year[ix] = cams\n",
    "    cases_year[ix] = cases\n",
    "    ix += 1\n",
    "\n",
    "plt.rcParams.update({'font.size': 12})    \n",
    "yearly = plt.bar(years, cams_year)\n",
    "\n",
    "plt.show()"
   ]
  },
  {
   "cell_type": "markdown",
   "metadata": {},
   "source": [
    "We can see that the amount of bodycameras used since 2015 has gone up, the current year (2020)\n",
    "should be ignored here as the latest data is from June 2020,\n",
    "and given the pandemic it can't be used to compare with the other years.\n",
    "let's compare this to the amount of cases in those years."
   ]
  },
  {
   "cell_type": "code",
   "execution_count": 5,
   "metadata": {},
   "outputs": [
    {
     "data": {
      "image/png": "[encoded data removed]",
      "text/plain": [
       "<Figure size 432x288 with 1 Axes>"
      ]
     },
     "metadata": {
      "needs_background": "light"
     },
     "output_type": "display_data"
    }
   ],
   "source": [
    "yearly_c = plt.bar(years, cases_year)\n",
    "plt.show()"
   ]
  },
  {
   "cell_type": "markdown",
   "metadata": {},
   "source": [
    "Comparing these, we can see that body camera usage has gone up, whilst the amount of reported cases has gone down."
   ]
  },
  {
   "cell_type": "markdown",
   "metadata": {},
   "source": [
    "### How many ways were there where nobody was shot?"
   ]
  },
  {
   "cell_type": "code",
   "execution_count": 6,
   "metadata": {},
   "outputs": [],
   "source": [
    "months = sorted(df.month.unique())\n",
    "days = sorted(df.day.unique())\n",
    "days_wo_shootings = 0\n",
    "dates = []\n",
    "done = False\n",
    "for year in years:\n",
    "    if done:\n",
    "        break\n",
    "    for month in months:\n",
    "        if done:\n",
    "            break\n",
    "        for day in days:\n",
    "            date_s = str(year) \n",
    "            \n",
    "            if month == 2 and day == 29:\n",
    "                break\n",
    "            elif (month == 4 or month == 6 or month == 9 or month == 11) and day == 31:\n",
    "                break\n",
    "            else:\n",
    "                if month < 10:\n",
    "                    date_s += '-0' + str(month)\n",
    "                else:\n",
    "                    date_s += '-' + str(month)\n",
    "                if day < 10:\n",
    "                    date_s += '-0' + str(day)\n",
    "                else:\n",
    "                    date_s += '-' + str(day)\n",
    "                if date_s == '2020-06-16':\n",
    "                    done = True\n",
    "                    break\n",
    "            \n",
    "            dates.append(date_s)"
   ]
  },
  {
   "cell_type": "code",
   "execution_count": 7,
   "metadata": {},
   "outputs": [
    {
     "name": "stdout",
     "output_type": "stream",
     "text": [
      "201\n"
     ]
    }
   ],
   "source": [
    "df['date'] = df['date'].astype(str)\n",
    "for ind in df.index:\n",
    "    if df.date[ind] in dates:\n",
    "        dates.remove(df.date[ind])\n",
    "print(len(dates))"
   ]
  },
  {
   "cell_type": "markdown",
   "metadata": {},
   "source": [
    "The total amount of days where there were no reported fatal shootings is 201,\n",
    "this is between 2015-01-01 and 2020-06-15."
   ]
  }
 ],
 "metadata": {
  "kernelspec": {
   "display_name": "Python 3",
   "language": "python",
   "name": "python3"
  },
  "language_info": {
   "codemirror_mode": {
    "name": "ipython",
    "version": 3
   },
   "file_extension": ".py",
   "mimetype": "text/x-python",
   "name": "python",
   "nbconvert_exporter": "python",
   "pygments_lexer": "ipython3",
   "version": "3.8.3"
  }
 },
 "nbformat": 4,
 "nbformat_minor": 4
}
